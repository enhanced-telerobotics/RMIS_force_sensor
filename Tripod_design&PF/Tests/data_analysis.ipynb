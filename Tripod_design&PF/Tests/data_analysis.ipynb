{
 "cells": [
  {
   "cell_type": "code",
   "execution_count": 1,
   "metadata": {},
   "outputs": [],
   "source": [
    "import csv\n",
    "import numpy as np\n",
    "import matplotlib.pyplot as plt\n",
    "\n",
    "raw_ati = [[], [], []]\n",
    "raw_fnet = [[], [], []]\n",
    "PF_ati = [[], [], []]\n",
    "PF_fnet = [[], [], []]\n",
    "\n",
    "time = []\n",
    "ati = [[], [], []]\n",
    "f_net = [[], [], []]\n",
    "f_grip = []\n",
    "\n",
    "# paths for average test errors\n",
    "folder_path = '/home/erie-dvrk/force_sensor_particle_filter/Tests/test_data'\n",
    "raw_paths = [folder_path + '/raw_test_data0.txt', folder_path + '/raw_test_data1.txt', folder_path + '/raw_test_data2.txt']\n",
    "PF_paths = [folder_path + '/PF_test_data1.txt', folder_path + '/PF_test_data2.txt', folder_path + '/PF_test_data1.txt']\n",
    "\n",
    "# path for single test errors and plot\n",
    "file_path = '/home/erie-dvrk/force_sensor_particle_filter/Tests/test_data/PF_test_data3.txt'\n",
    "\n",
    "plt.rcParams.update({'font.size': 15})\n",
    "labels = [ 'x', 'y', 'z']"
   ]
  },
  {
   "cell_type": "code",
   "execution_count": 2,
   "metadata": {},
   "outputs": [],
   "source": [
    "# Error computation functions\n",
    "def rmse(standard_force, estimated_force):\n",
    "    standard_force = np.array(standard_force)\n",
    "    estimated_force = np.array(estimated_force)\n",
    "    return np.sqrt(np.mean((standard_force - estimated_force) ** 2))\n",
    "\n",
    "def nrmsd(standard_force, estimated_force):\n",
    "    standard_force = np.array(standard_force)\n",
    "    estimated_force = np.array(estimated_force)\n",
    "    return ((np.sqrt(np.mean((standard_force - estimated_force) ** 2))) / (np.max(standard_force) - np.min(standard_force))) * 100\n",
    "\n",
    "def R2(standard_force, estimated_force):\n",
    "    standard_force = np.array(standard_force)\n",
    "    estimated_force = np.array(estimated_force)\n",
    "    return 1 - (np.sum((standard_force - estimated_force) ** 2) / np.sum((standard_force - np.mean(standard_force)) ** 2))\n",
    "\n",
    "def max_error(standard_force, estimated_force):\n",
    "    standard_force = np.array(standard_force)\n",
    "    estimated_force = np.array(estimated_force)\n",
    "    return np.max(np.abs(standard_force - estimated_force))"
   ]
  },
  {
   "cell_type": "code",
   "execution_count": 3,
   "metadata": {},
   "outputs": [
    {
     "name": "stdout",
     "output_type": "stream",
     "text": [
      "RMSE: \n",
      "x: 0.1452\ty: 0.1256\tz: 0.4077\n",
      "NRMSD: \n",
      "x: 4.745%\ty: 3.728%\tz: 18.531%\n",
      "R^2: \n",
      "x: 0.8893\ty: 0.9198\tz: 0.5082\n",
      "Max Error: \n",
      "x: 0.6500\ty: 0.5900\tz: 1.8600\n"
     ]
    }
   ],
   "source": [
    "for i in range(3):\n",
    "    with open(raw_paths[i], 'r') as raw_file:\n",
    "        raw_reader = csv.DictReader(raw_file, delimiter='\\t')\n",
    "        for row in raw_reader:\n",
    "            raw_ati[0].append(float(row['ATI.x']))\n",
    "            raw_ati[1].append(float(row['ATI.y']))\n",
    "            raw_ati[2].append(float(row['ATI.z']))\n",
    "            \n",
    "            raw_fnet[0].append(-float(row['F_net.x']))\n",
    "            raw_fnet[1].append(-float(row['F_net.y']))\n",
    "            raw_fnet[2].append(-float(row['F_net.z']))\n",
    "print(\"RMSE: \")\n",
    "print(f\"x: {rmse(raw_ati[0], raw_fnet[0]):.4f}\\ty: {rmse(raw_ati[1], raw_fnet[1]):.4f}\\tz: {rmse(raw_ati[2], raw_fnet[2]):.4f}\")\n",
    "print(\"NRMSD: \")\n",
    "print(f\"x: {nrmsd(raw_ati[0], raw_fnet[0]):.3f}%\\ty: {nrmsd(raw_ati[1], raw_fnet[1]):.3f}%\\tz: {nrmsd(raw_ati[2], raw_fnet[2]):.3f}%\")\n",
    "print(\"R^2: \")\n",
    "print(f\"x: {R2(raw_ati[0], raw_fnet[0]):.4f}\\ty: {R2(raw_ati[1], raw_fnet[1]):.4f}\\tz: {R2(raw_ati[2], raw_fnet[2]):.4f}\")\n",
    "print(\"Max Error: \")\n",
    "print(f\"x: {max_error(raw_ati[0], raw_fnet[0]):.4f}\\ty: {max_error(raw_ati[1], raw_fnet[1]):.4f}\\tz: {max_error(raw_ati[2], raw_fnet[2]):.4f}\")"
   ]
  },
  {
   "cell_type": "code",
   "execution_count": 4,
   "metadata": {},
   "outputs": [
    {
     "name": "stdout",
     "output_type": "stream",
     "text": [
      "RMSE: \n",
      "x: 0.1334\ty: 0.1401\tz: 0.3016\n",
      "NRMSD: \n",
      "x: 3.335%\ty: 5.113%\tz: 12.998%\n",
      "R^2: \n",
      "x: 0.9244\ty: 0.8887\tz: 0.7903\n",
      "Max Error: \n",
      "x: 0.6600\ty: 0.5800\tz: 1.4700\n"
     ]
    }
   ],
   "source": [
    "for i in range(3):\n",
    "    with open(PF_paths[i], 'r') as PF_file:\n",
    "        PF_reader = csv.DictReader(PF_file, delimiter='\\t')\n",
    "        for row in PF_reader:\n",
    "            PF_ati[0].append(float(row['ATI.x']))\n",
    "            PF_ati[1].append(float(row['ATI.y']))\n",
    "            PF_ati[2].append(float(row['ATI.z']))\n",
    "            \n",
    "            PF_fnet[0].append(-float(row['F_net.x']))\n",
    "            PF_fnet[1].append(-float(row['F_net.y']))\n",
    "            PF_fnet[2].append(-float(row['F_net.z']))\n",
    "print(\"RMSE: \")\n",
    "print(f\"x: {rmse(PF_ati[0], PF_fnet[0]):.4f}\\ty: {rmse(PF_ati[1], PF_fnet[1]):.4f}\\tz: {rmse(PF_ati[2], PF_fnet[2]):.4f}\")\n",
    "print(\"NRMSD: \")\n",
    "print(f\"x: {nrmsd(PF_ati[0], PF_fnet[0]):.3f}%\\ty: {nrmsd(PF_ati[1], PF_fnet[1]):.3f}%\\tz: {nrmsd(PF_ati[2], PF_fnet[2]):.3f}%\")\n",
    "print(\"R^2: \")\n",
    "print(f\"x: {R2(PF_ati[0], PF_fnet[0]):.4f}\\ty: {R2(PF_ati[1], PF_fnet[1]):.4f}\\tz: {R2(PF_ati[2], PF_fnet[2]):.4f}\")\n",
    "print(\"Max Error: \")\n",
    "print(f\"x: {max_error(PF_ati[0], PF_fnet[0]):.4f}\\ty: {max_error(PF_ati[1], PF_fnet[1]):.4f}\\tz: {max_error(PF_ati[2], PF_fnet[2]):.4f}\")"
   ]
  },
  {
   "cell_type": "code",
   "execution_count": 5,
   "metadata": {},
   "outputs": [],
   "source": [
    "with open(file_path, 'r') as file:\n",
    "    reader = csv.DictReader(file, delimiter='\\t')\n",
    "    for row in reader:\n",
    "        time.append(float(row['Time']))\n",
    "        \n",
    "        ati[0].append(float(row['ATI.x']))\n",
    "        ati[1].append(float(row['ATI.y']))\n",
    "        ati[2].append(float(row['ATI.z']))\n",
    "        \n",
    "        f_net[0].append(-float(row['F_net.x']))\n",
    "        f_net[1].append(-float(row['F_net.y']))\n",
    "        f_net[2].append(-float(row['F_net.z']))\n",
    "        \n",
    "        f_grip.append(float(row['F_grip']))"
   ]
  },
  {
   "cell_type": "code",
   "execution_count": 6,
   "metadata": {},
   "outputs": [
    {
     "name": "stdout",
     "output_type": "stream",
     "text": [
      "RMSE: \n",
      "x: 0.2659\ty: 0.1926\tz: 0.4557\n",
      "NRMSD: \n",
      "x: 7.984%\ty: 7.410%\tz: 16.217%\n",
      "R^2: \n",
      "x: 0.8275\ty: 0.8350\tz: 0.6119\n",
      "Max Error: \n",
      "x: 1.2000\ty: 0.8300\tz: 1.8300\n"
     ]
    }
   ],
   "source": [
    "print(\"RMSE: \")\n",
    "print(f\"x: {rmse(ati[0], f_net[0]):.4f}\\ty: {rmse(ati[1], f_net[1]):.4f}\\tz: {rmse(ati[2], f_net[2]):.4f}\")\n",
    "print(\"NRMSD: \")\n",
    "print(f\"x: {nrmsd(ati[0], f_net[0]):.3f}%\\ty: {nrmsd(ati[1], f_net[1]):.3f}%\\tz: {nrmsd(ati[2], f_net[2]):.3f}%\")\n",
    "print(\"R^2: \")\n",
    "print(f\"x: {R2(ati[0], f_net[0]):.4f}\\ty: {R2(ati[1], f_net[1]):.4f}\\tz: {R2(ati[2], f_net[2]):.4f}\")\n",
    "print(\"Max Error: \")\n",
    "print(f\"x: {max_error(ati[0], f_net[0]):.4f}\\ty: {max_error(ati[1], f_net[1]):.4f}\\tz: {max_error(ati[2], f_net[2]):.4f}\")"
   ]
  },
  {
   "cell_type": "code",
   "execution_count": 7,
   "metadata": {},
   "outputs": [],
   "source": [
    "# plot standard forces versus estimated forces\n",
    "plt.figure(figsize=(10, 10))\n",
    "\n",
    "for i in range(3):\n",
    "    plt.subplot(3, 1, i+1)\n",
    "    plt.plot(time, ati[i], label='Nano17.' + labels[i])\n",
    "    plt.plot(time, f_net[i], label='F_net.' + labels[i])\n",
    "    plt.title('Standard force vs. Measured force') if i == 0 else None\n",
    "    plt.xlabel('Time (s)') if i == 2 else None\n",
    "    plt.ylabel('Force (N)')\n",
    "    plt.legend()\n",
    "    plt.grid(True)\n",
    "\n",
    "plt.tight_layout()\n",
    "plt.show()"
   ]
  }
 ],
 "metadata": {
  "kernelspec": {
   "display_name": "tool_tracking",
   "language": "python",
   "name": "python3"
  },
  "language_info": {
   "codemirror_mode": {
    "name": "ipython",
    "version": 3
   },
   "file_extension": ".py",
   "mimetype": "text/x-python",
   "name": "python",
   "nbconvert_exporter": "python",
   "pygments_lexer": "ipython3",
   "version": "3.8.18"
  }
 },
 "nbformat": 4,
 "nbformat_minor": 2
}
