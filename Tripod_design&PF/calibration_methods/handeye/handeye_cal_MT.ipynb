{
 "cells": [
  {
   "cell_type": "code",
   "execution_count": 1,
   "metadata": {},
   "outputs": [],
   "source": [
    "import numpy as np\n",
    "import pandas as pd\n",
    "\n",
    "root_path = '/home/erie-dvrk/force_sensor_particle_filter/cal_methods/handeye/MTdata'\n",
    "rotation_path = root_path + '/4.28Rotation.txt'\n",
    "toolTip_path  = root_path + '/4.28ToolTip.txt'\n",
    "ati_path = root_path + '/4.28ATI.txt'"
   ]
  },
  {
   "cell_type": "code",
   "execution_count": 2,
   "metadata": {},
   "outputs": [],
   "source": [
    "def cal_trans(tip1, tip2, mat1, mat2):\n",
    "    mat2 = np.linalg.inv(mat2)\n",
    "    \n",
    "    # translation vector in microntracker's frame\n",
    "    transInTracker = tip2 - tip1\n",
    "    \n",
    "    return mat2.dot(mat1.dot(transInTracker))"
   ]
  },
  {
   "cell_type": "code",
   "execution_count": 3,
   "metadata": {},
   "outputs": [
    {
     "name": "stdout",
     "output_type": "stream",
     "text": [
      "Rotation\n",
      "[[-0.88481758 -0.07000301 -0.46066689]\n",
      " [-0.07601656  0.99671513 -0.00637037]\n",
      " [ 0.45985718  0.02936518 -0.88729935]]\n",
      "Translation\n",
      "[-90.99102688 -20.08748283  98.0965937 ]\n"
     ]
    }
   ],
   "source": [
    "# calculate handeye transformation\n",
    "rot_f = pd.read_csv(rotation_path, sep='\\t')\n",
    "tip_f = pd.read_csv(toolTip_path, sep='\\t')\n",
    "\n",
    "tracker2markc = np.array(rot_f[[col for col in rot_f if col.startswith('ECM_Camera_Surface')]].values).reshape(3, 3) # rotation from tracker to camera marker\n",
    "tracker2markb = np.array(rot_f[[col for col in rot_f if col.startswith('PSM_Base')]].values).reshape(3, 3)           # rotation from tracker to PSM base marker\n",
    "tipc = tip_f[[col for col in tip_f if col.startswith('ECM tip')]].values[0]    # ECM marker tip\n",
    "tipb = tip_f[[col for col in tip_f if col.startswith('PSM tip')]].values[0]    # PSM marker tip\n",
    "\n",
    "# transform between markers and desired frames\n",
    "cam2markc = np.array([0, -1, 0, -1, 0, 0, 0, 0, -1]).reshape(3,3)\n",
    "markb2base = np.array([0, 0, -1, 1, 0, 0, 0, -1, 0]).reshape(3,3)\n",
    "\n",
    "tracker2base = np.dot(tracker2markb, markb2base)\n",
    "tracker2cam = np.dot(tracker2markc, np.linalg.inv(cam2markc))\n",
    "\n",
    "print(\"Rotation\")\n",
    "print(np.dot(np.linalg.inv(tracker2cam), tracker2base))\n",
    "print(\"Translation\")\n",
    "print(np.dot(np.linalg.inv(tracker2cam), (tipb-tipc)))"
   ]
  },
  {
   "cell_type": "code",
   "execution_count": 4,
   "metadata": {},
   "outputs": [
    {
     "name": "stdout",
     "output_type": "stream",
     "text": [
      "Sensor alignment\n",
      "[[ 0.9970722  -0.07134282 -0.0240723 ]\n",
      " [ 0.07110851  0.99692001 -0.01121118]\n",
      " [ 0.02514205  0.00951939  0.99919272]]\n"
     ]
    }
   ],
   "source": [
    "# ATI sensor alignment\n",
    "ati_f = pd.read_csv(ati_path, sep='\\t')\n",
    "baseToMarker = np.array([0, -1, 0, 0, 0, -1, 1, 0, 0]).reshape(3, 3)\n",
    "base_rot = np.array(ati_f[[col for col in ati_f if col.startswith('PSM_Base')]].values).reshape(3, 3)\n",
    "ati_rot = np.array(ati_f[[col for col in ati_f if col.startswith('ATI')]].values).reshape(3, 3)\n",
    "print('Sensor alignment')\n",
    "print(np.matmul(np.matmul(baseToMarker, np.matmul(np.linalg.inv(ati_rot), base_rot)), np.linalg.inv(baseToMarker)))"
   ]
  }
 ],
 "metadata": {
  "kernelspec": {
   "display_name": "tool_tracking",
   "language": "python",
   "name": "python3"
  },
  "language_info": {
   "codemirror_mode": {
    "name": "ipython",
    "version": 3
   },
   "file_extension": ".py",
   "mimetype": "text/x-python",
   "name": "python",
   "nbconvert_exporter": "python",
   "pygments_lexer": "ipython3",
   "version": "3.8.18"
  }
 },
 "nbformat": 4,
 "nbformat_minor": 2
}
